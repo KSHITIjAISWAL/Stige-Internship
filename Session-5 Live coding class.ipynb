{
 "cells": [
  {
   "cell_type": "markdown",
   "metadata": {},
   "source": [
    "# Python Live Coding Class"
   ]
  },
  {
   "cell_type": "markdown",
   "metadata": {},
   "source": [
    "## Questions-1:\n",
    "Description\n",
    "Any number, say n is called an Armstrong number if it is equal to the sum of its digits, where each is raised to the power of number of digits in n.\n",
    "For example:\n",
    "153=13+53+33\n",
    "\n",
    "Write Python code to determine whether an entered three digit number is an Armstrong number or not. \n",
    "Assume that the number entered will strictly be a three digit number.\n",
    "Print \"True\" if it is an Armstrong number and print \"False\" if it is not.\n",
    "Sample Input:\n",
    "153\n",
    "Sample Output:\n",
    "True"
   ]
  },
  {
   "cell_type": "code",
   "execution_count": 1,
   "metadata": {},
   "outputs": [
    {
     "name": "stdout",
     "output_type": "stream",
     "text": [
      "Enter a number: 153\n",
      "153 is an Armstrong number\n"
     ]
    }
   ],
   "source": [
    "# Python program to check if the number is an Armstrong number or not\n",
    "\n",
    "# take input from the user\n",
    "num = int(input(\"Enter a number: \"))\n",
    "\n",
    "# initialize sum\n",
    "sum = 0\n",
    "\n",
    "# find the sum of the cube of each digit\n",
    "temp = num\n",
    "while temp > 0:\n",
    "   digit = temp % 10\n",
    "   sum += digit ** 3\n",
    "   temp //= 10\n",
    "\n",
    "# display the result\n",
    "if num == sum:\n",
    "   print(num,\"is an Armstrong number\")\n",
    "else:\n",
    "   print(num,\"is not an Armstrong number\")"
   ]
  },
  {
   "cell_type": "markdown",
   "metadata": {},
   "source": [
    "## Question-2: \n",
    "Compute and display Fibonacci series upto n terms where n is a positive integer entered by the user.\n",
    "\n",
    "Sample Input:\n",
    "5\n",
    "Sample Output:\n",
    "0\n",
    "1\n",
    "1\n",
    "2\n",
    "3"
   ]
  },
  {
   "cell_type": "code",
   "execution_count": 5,
   "metadata": {},
   "outputs": [],
   "source": [
    "n = int(input(\"Enter the value of 'n': \"))\n",
    "a = 0\n",
    "b = 1\n",
    "sum = 0\n",
    "count = 1\n",
    "print(\"Fibonacci Series: \", end = \" \")\n",
    "while(count <= n):\n",
    "  print(sum, end = \" \")\n",
    "  count += 1\n",
    "  a = b\n",
    "  b = sum\n",
    "  sum = a + b"
   ]
  },
  {
   "cell_type": "markdown",
   "metadata": {},
   "source": [
    "## Question-3:\n",
    "Sum of Primes\n",
    "Description\n",
    "Write python code to find the sum of prime numbers from 2 to n where n is a positive integer entered by the user.\n",
    "\n",
    "Note: n can be non-prime or prime. You have to find sum of primes till n and not sum of n prime numbers. i.e. for input 10, output should be 17.\n",
    "\n",
    "Input: A positive integer n.\n",
    "\n",
    "Output: A integer denoting the sum of primes less than or equal to n\n",
    "\n",
    "Sample Input:\n",
    "\n",
    "5\n",
    "\n",
    "Sample Output:\n",
    "\n",
    "10"
   ]
  },
  {
   "cell_type": "code",
   "execution_count": 25,
   "metadata": {},
   "outputs": [
    {
     "name": "stdout",
     "output_type": "stream",
     "text": [
      "Enter the maximum value for find sum of primes:5\n",
      "Sum of all prime numbers 1 to  5 : 10\n"
     ]
    }
   ],
   "source": [
    "#takes input from the user\n",
    "max=int(input(\"Enter the maximum value for find sum of primes:\"))\n",
    "sum=2\n",
    "for num in range(2,max+1):\n",
    "    i=2\n",
    "    for i in range(2,num):\n",
    "        if(int(num%i==0)):\n",
    "            i=num\n",
    "            break;\n",
    "        #when the number is prime calculate sum\n",
    "    if i is not num:\n",
    "        sum+=num\n",
    "print(\"Sum of all prime numbers 1 to \",max,\":\",sum)"
   ]
  },
  {
   "cell_type": "markdown",
   "metadata": {},
   "source": [
    "## Question-4:\n",
    "\n",
    "Write a Python program to divide a given list into chunks of size k.\n",
    "\n",
    "The number of elements in the list need not to be divisible by k.\n",
    "For example, if you want to divide the list [1,2,3,4,5,6,7] into chunk size k=4, then the first chunk will be [1,2,3,4] and the second one will have [5,6,7]. i.e. the last chunk need not have k elements.\n",
    "The input will have two lines, the first line would have the list and the second line would have the value of k.(the code for taking input has already been written, you should not change that)\n",
    "The final output should have the list chunks in different lines.\n",
    "\n",
    "Sample Input:\n",
    "[1,2,3,4,5,6,7,8,9]\n",
    "3\n",
    "Sample Output:\n",
    "[1, 2, 3]\n",
    "[4, 5, 6]\n",
    "[7, 8, 9]"
   ]
  },
  {
   "cell_type": "markdown",
   "metadata": {},
   "source": [
    "## Question-5:\n",
    "Given a list of numbers, find the second largest number in the list.\n",
    "\n",
    "Note: There might be repeated numbers in the list. If there is only one number present in the list, return 'not present'.\n",
    "\n",
    "Examples:\n",
    "Input 1:\n",
    "[7, 2, 0, 9, -1, 8]\n",
    "Output 1:\n",
    "8\n",
    "\n",
    "Input 2:\n",
    "[3, 1, 4, 4, 5, 5, 5, 0, 2, 2]\n",
    "Output 2:\n",
    "4\n",
    "\n",
    "Input 2:\n",
    "[6, 6, 6, 6, 6]\n",
    "Output 2:\n",
    "not present\n",
    "Execut"
   ]
  },
  {
   "cell_type": "code",
   "execution_count": 35,
   "metadata": {},
   "outputs": [
    {
     "name": "stdout",
     "output_type": "stream",
     "text": [
      "[1,2,3,4,5,6,7,8,9],3\n",
      "[1, 2, 3]\n",
      "[4, 5, 6]\n",
      "[7, 8, 9]\n"
     ]
    }
   ],
   "source": [
    "import ast\n",
    "input_str = input()\n",
    "input_list = ast. literal_eval(input_str)\n",
    "lis = input_list[0]\n",
    "k=input_list[1]\n",
    "\n",
    "output_list = []\n",
    "while len(lis)>0:\n",
    "    output_list. append(lis[0:k])\n",
    "    del(lis[0:k])\n",
    "for i in output_list:\n",
    "    print (i)\n"
   ]
  },
  {
   "cell_type": "markdown",
   "metadata": {},
   "source": [
    "## Question-6:\n",
    "\n",
    "A weird sum\n",
    "Description\n",
    "Write a program that computes the value of n+nn+nnn+nnnn+... nn...n ntimes with a given number as the value of n.\n",
    "\n",
    "\n",
    "\n",
    "For example, if n=3 , then you have to find the value of 3+33+333\n",
    "\n",
    "if n=10, then you have to find the value of 10 + 1010 + 101010 + 10101010 + 1010101010 + 101010101010 + 10101010101010 + 1010101010101010 +101010101010101010+ 10101010101010101010\n",
    "\n",
    "\n",
    "\n",
    "\n",
    "\n",
    "Note: n will always be a positive number"
   ]
  },
  {
   "cell_type": "code",
   "execution_count": 2,
   "metadata": {},
   "outputs": [
    {
     "name": "stdout",
     "output_type": "stream",
     "text": [
      "n: 3\n",
      "369\n"
     ]
    }
   ],
   "source": [
    "n = input('n: ')\n",
    "s = 0\n",
    "for i in range(1, int(n) + 1):\n",
    "    s += int(n * i) # n is a string, multiplying with int results in replication\n",
    "\n",
    "print(s)"
   ]
  },
  {
   "cell_type": "code",
   "execution_count": null,
   "metadata": {},
   "outputs": [],
   "source": []
  }
 ],
 "metadata": {
  "kernelspec": {
   "display_name": "Python 3",
   "language": "python",
   "name": "python3"
  },
  "language_info": {
   "codemirror_mode": {
    "name": "ipython",
    "version": 3
   },
   "file_extension": ".py",
   "mimetype": "text/x-python",
   "name": "python",
   "nbconvert_exporter": "python",
   "pygments_lexer": "ipython3",
   "version": "3.8.5"
  }
 },
 "nbformat": 4,
 "nbformat_minor": 2
}
